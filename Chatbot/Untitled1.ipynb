{
 "cells": [
  {
   "cell_type": "code",
   "execution_count": 1,
   "id": "fcb6d46f",
   "metadata": {},
   "outputs": [],
   "source": [
    "import chainlit as cl"
   ]
  },
  {
   "cell_type": "code",
   "execution_count": 2,
   "id": "ce7e9b4c",
   "metadata": {},
   "outputs": [
    {
     "name": "stdout",
     "output_type": "stream",
     "text": [
      "Requirement already satisfied: langchain in d:\\anaconda\\envs\\chatbot\\lib\\site-packages (0.0.343)\n",
      "Requirement already satisfied: PyYAML>=5.3 in d:\\anaconda\\envs\\chatbot\\lib\\site-packages (from langchain) (6.0.1)\n",
      "Requirement already satisfied: SQLAlchemy<3,>=1.4 in d:\\anaconda\\envs\\chatbot\\lib\\site-packages (from langchain) (2.0.23)\n",
      "Requirement already satisfied: aiohttp<4.0.0,>=3.8.3 in d:\\anaconda\\envs\\chatbot\\lib\\site-packages (from langchain) (3.9.1)\n",
      "Requirement already satisfied: anyio<4.0 in d:\\anaconda\\envs\\chatbot\\lib\\site-packages (from langchain) (3.5.0)\n",
      "Requirement already satisfied: dataclasses-json<0.7,>=0.5.7 in d:\\anaconda\\envs\\chatbot\\lib\\site-packages (from langchain) (0.5.14)\n",
      "Requirement already satisfied: jsonpatch<2.0,>=1.33 in d:\\anaconda\\envs\\chatbot\\lib\\site-packages (from langchain) (1.33)\n",
      "Requirement already satisfied: langchain-core<0.1,>=0.0.7 in d:\\anaconda\\envs\\chatbot\\lib\\site-packages (from langchain) (0.0.7)\n",
      "Requirement already satisfied: langsmith<0.1.0,>=0.0.63 in d:\\anaconda\\envs\\chatbot\\lib\\site-packages (from langchain) (0.0.67)\n",
      "Requirement already satisfied: numpy<2,>=1 in d:\\anaconda\\envs\\chatbot\\lib\\site-packages (from langchain) (1.26.2)\n",
      "Requirement already satisfied: pydantic<3,>=1 in d:\\anaconda\\envs\\chatbot\\lib\\site-packages (from langchain) (2.5.2)\n",
      "Requirement already satisfied: requests<3,>=2 in d:\\anaconda\\envs\\chatbot\\lib\\site-packages (from langchain) (2.31.0)\n",
      "Requirement already satisfied: tenacity<9.0.0,>=8.1.0 in d:\\anaconda\\envs\\chatbot\\lib\\site-packages (from langchain) (8.2.3)\n",
      "Requirement already satisfied: attrs>=17.3.0 in d:\\anaconda\\envs\\chatbot\\lib\\site-packages (from aiohttp<4.0.0,>=3.8.3->langchain) (23.1.0)\n",
      "Requirement already satisfied: multidict<7.0,>=4.5 in d:\\anaconda\\envs\\chatbot\\lib\\site-packages (from aiohttp<4.0.0,>=3.8.3->langchain) (6.0.4)\n",
      "Requirement already satisfied: yarl<2.0,>=1.0 in d:\\anaconda\\envs\\chatbot\\lib\\site-packages (from aiohttp<4.0.0,>=3.8.3->langchain) (1.9.3)\n",
      "Requirement already satisfied: frozenlist>=1.1.1 in d:\\anaconda\\envs\\chatbot\\lib\\site-packages (from aiohttp<4.0.0,>=3.8.3->langchain) (1.4.0)\n",
      "Requirement already satisfied: aiosignal>=1.1.2 in d:\\anaconda\\envs\\chatbot\\lib\\site-packages (from aiohttp<4.0.0,>=3.8.3->langchain) (1.3.1)\n",
      "Requirement already satisfied: idna>=2.8 in d:\\anaconda\\envs\\chatbot\\lib\\site-packages (from anyio<4.0->langchain) (3.4)\n",
      "Requirement already satisfied: sniffio>=1.1 in d:\\anaconda\\envs\\chatbot\\lib\\site-packages (from anyio<4.0->langchain) (1.2.0)\n",
      "Requirement already satisfied: marshmallow<4.0.0,>=3.18.0 in d:\\anaconda\\envs\\chatbot\\lib\\site-packages (from dataclasses-json<0.7,>=0.5.7->langchain) (3.20.1)\n",
      "Requirement already satisfied: typing-inspect<1,>=0.4.0 in d:\\anaconda\\envs\\chatbot\\lib\\site-packages (from dataclasses-json<0.7,>=0.5.7->langchain) (0.9.0)\n",
      "Requirement already satisfied: jsonpointer>=1.9 in d:\\anaconda\\envs\\chatbot\\lib\\site-packages (from jsonpatch<2.0,>=1.33->langchain) (2.4)\n",
      "Requirement already satisfied: annotated-types>=0.4.0 in d:\\anaconda\\envs\\chatbot\\lib\\site-packages (from pydantic<3,>=1->langchain) (0.6.0)\n",
      "Requirement already satisfied: pydantic-core==2.14.5 in d:\\anaconda\\envs\\chatbot\\lib\\site-packages (from pydantic<3,>=1->langchain) (2.14.5)\n",
      "Requirement already satisfied: typing-extensions>=4.6.1 in d:\\anaconda\\envs\\chatbot\\lib\\site-packages (from pydantic<3,>=1->langchain) (4.7.1)\n",
      "Requirement already satisfied: charset-normalizer<4,>=2 in d:\\anaconda\\envs\\chatbot\\lib\\site-packages (from requests<3,>=2->langchain) (2.0.4)\n",
      "Requirement already satisfied: urllib3<3,>=1.21.1 in d:\\anaconda\\envs\\chatbot\\lib\\site-packages (from requests<3,>=2->langchain) (1.26.18)\n",
      "Requirement already satisfied: certifi>=2017.4.17 in d:\\anaconda\\envs\\chatbot\\lib\\site-packages (from requests<3,>=2->langchain) (2023.11.17)\n",
      "Requirement already satisfied: greenlet!=0.4.17 in d:\\anaconda\\envs\\chatbot\\lib\\site-packages (from SQLAlchemy<3,>=1.4->langchain) (3.0.1)\n",
      "Requirement already satisfied: packaging>=17.0 in d:\\anaconda\\envs\\chatbot\\lib\\site-packages (from marshmallow<4.0.0,>=3.18.0->dataclasses-json<0.7,>=0.5.7->langchain) (23.1)\n",
      "Requirement already satisfied: mypy-extensions>=0.3.0 in d:\\anaconda\\envs\\chatbot\\lib\\site-packages (from typing-inspect<1,>=0.4.0->dataclasses-json<0.7,>=0.5.7->langchain) (1.0.0)\n"
     ]
    }
   ],
   "source": [
    "!pip install langchain"
   ]
  },
  {
   "cell_type": "code",
   "execution_count": 3,
   "id": "3875bae6",
   "metadata": {},
   "outputs": [],
   "source": [
    "import os\n",
    "from langchain import HuggingFaceHub, PromptTemplate, LLMChain"
   ]
  },
  {
   "cell_type": "code",
   "execution_count": 6,
   "id": "746cf2b2",
   "metadata": {},
   "outputs": [
    {
     "name": "stdout",
     "output_type": "stream",
     "text": [
      "Collecting huggingface_hub\n",
      "  Downloading huggingface_hub-0.19.4-py3-none-any.whl.metadata (14 kB)\n",
      "Collecting filelock (from huggingface_hub)\n",
      "  Downloading filelock-3.13.1-py3-none-any.whl.metadata (2.8 kB)\n",
      "Collecting fsspec>=2023.5.0 (from huggingface_hub)\n",
      "  Downloading fsspec-2023.10.0-py3-none-any.whl.metadata (6.8 kB)\n",
      "Requirement already satisfied: requests in d:\\anaconda\\envs\\chatbot\\lib\\site-packages (from huggingface_hub) (2.31.0)\n",
      "Collecting tqdm>=4.42.1 (from huggingface_hub)\n",
      "  Downloading tqdm-4.66.1-py3-none-any.whl.metadata (57 kB)\n",
      "     ---------------------------------------- 0.0/57.6 kB ? eta -:--:--\n",
      "     ------- -------------------------------- 10.2/57.6 kB ? eta -:--:--\n",
      "     --------------------------------- ---- 51.2/57.6 kB 525.1 kB/s eta 0:00:01\n",
      "     -------------------------------------- 57.6/57.6 kB 434.6 kB/s eta 0:00:00\n",
      "Requirement already satisfied: pyyaml>=5.1 in d:\\anaconda\\envs\\chatbot\\lib\\site-packages (from huggingface_hub) (6.0.1)\n",
      "Requirement already satisfied: typing-extensions>=3.7.4.3 in d:\\anaconda\\envs\\chatbot\\lib\\site-packages (from huggingface_hub) (4.7.1)\n",
      "Requirement already satisfied: packaging>=20.9 in d:\\anaconda\\envs\\chatbot\\lib\\site-packages (from huggingface_hub) (23.1)\n",
      "Requirement already satisfied: colorama in d:\\anaconda\\envs\\chatbot\\lib\\site-packages (from tqdm>=4.42.1->huggingface_hub) (0.4.6)\n",
      "Requirement already satisfied: charset-normalizer<4,>=2 in d:\\anaconda\\envs\\chatbot\\lib\\site-packages (from requests->huggingface_hub) (2.0.4)\n",
      "Requirement already satisfied: idna<4,>=2.5 in d:\\anaconda\\envs\\chatbot\\lib\\site-packages (from requests->huggingface_hub) (3.4)\n",
      "Requirement already satisfied: urllib3<3,>=1.21.1 in d:\\anaconda\\envs\\chatbot\\lib\\site-packages (from requests->huggingface_hub) (1.26.18)\n",
      "Requirement already satisfied: certifi>=2017.4.17 in d:\\anaconda\\envs\\chatbot\\lib\\site-packages (from requests->huggingface_hub) (2023.11.17)\n",
      "Downloading huggingface_hub-0.19.4-py3-none-any.whl (311 kB)\n",
      "   ---------------------------------------- 0.0/311.7 kB ? eta -:--:--\n",
      "   ------- -------------------------------- 61.4/311.7 kB 1.7 MB/s eta 0:00:01\n",
      "   ------------------ --------------------- 143.4/311.7 kB 1.7 MB/s eta 0:00:01\n",
      "   --------------------- ------------------ 163.8/311.7 kB 1.2 MB/s eta 0:00:01\n",
      "   ------------------------------- -------- 245.8/311.7 kB 1.4 MB/s eta 0:00:01\n",
      "   ---------------------------------------  307.2/311.7 kB 1.5 MB/s eta 0:00:01\n",
      "   ---------------------------------------- 311.7/311.7 kB 1.3 MB/s eta 0:00:00\n",
      "Downloading fsspec-2023.10.0-py3-none-any.whl (166 kB)\n",
      "   ---------------------------------------- 0.0/166.4 kB ? eta -:--:--\n",
      "   --------- ------------------------------ 41.0/166.4 kB ? eta -:--:--\n",
      "   ----------------------------- ---------- 122.9/166.4 kB 2.4 MB/s eta 0:00:01\n",
      "   ---------------------------------- ----- 143.4/166.4 kB 1.2 MB/s eta 0:00:01\n",
      "   ---------------------------------------- 166.4/166.4 kB 1.1 MB/s eta 0:00:00\n",
      "Downloading tqdm-4.66.1-py3-none-any.whl (78 kB)\n",
      "   ---------------------------------------- 0.0/78.3 kB ? eta -:--:--\n",
      "   --------------- ------------------------ 30.7/78.3 kB 660.6 kB/s eta 0:00:01\n",
      "   ---------------------------------------- 78.3/78.3 kB 872.0 kB/s eta 0:00:00\n",
      "Downloading filelock-3.13.1-py3-none-any.whl (11 kB)\n",
      "Installing collected packages: tqdm, fsspec, filelock, huggingface_hub\n",
      "Successfully installed filelock-3.13.1 fsspec-2023.10.0 huggingface_hub-0.19.4 tqdm-4.66.1\n"
     ]
    }
   ],
   "source": [
    "!pip install huggingface_hub\n"
   ]
  },
  {
   "cell_type": "code",
   "execution_count": 4,
   "id": "6674c31b",
   "metadata": {},
   "outputs": [
    {
     "name": "stdout",
     "output_type": "stream",
     "text": [
      "········\n"
     ]
    }
   ],
   "source": [
    "from getpass import getpass\n",
    "HUGGINGFACEHUB_API_TOKEN = getpass()\n",
    "os.environ['HUGGINGFACEHUB_API_TOKEN'] = HUGGINGFACEHUB_API_TOKEN"
   ]
  },
  {
   "cell_type": "code",
   "execution_count": 15,
   "id": "7c09cfce",
   "metadata": {},
   "outputs": [
    {
     "name": "stderr",
     "output_type": "stream",
     "text": [
      "D:\\Anaconda\\envs\\chatbot\\Lib\\site-packages\\huggingface_hub\\utils\\_deprecation.py:127: FutureWarning: '__init__' (from 'huggingface_hub.inference_api') is deprecated and will be removed from version '1.0'. `InferenceApi` client is deprecated in favor of the more feature-complete `InferenceClient`. Check out this guide to learn how to convert your script to use it: https://huggingface.co/docs/huggingface_hub/guides/inference#legacy-inferenceapi-client.\n",
      "  warnings.warn(warning_message, FutureWarning)\n"
     ]
    }
   ],
   "source": [
    "model_id = \"openchat/openchat_3.5\"  #355M parameters\n",
    "conv_model = HuggingFaceHub(huggingfacehub_api_token=os.environ['HUGGINGFACEHUB_API_TOKEN'],\n",
    "                            repo_id=model_id,\n",
    "                            model_kwargs={\"temperature\":0.8, \"max_new_tokens\":200}) #0 to 1"
   ]
  },
  {
   "cell_type": "code",
   "execution_count": 16,
   "id": "71a4170c",
   "metadata": {},
   "outputs": [],
   "source": [
    "template = \"\"\"You are a helpful AI assistant providing support to someone dealing with phobias. Your goal is to offer friendly and informative advice on overcoming fears. \n",
    "\n",
    "{query}\n",
    "\"\"\"\n",
    "\n",
    "prompt = PromptTemplate(template=template, input_variables=['query'])"
   ]
  },
  {
   "cell_type": "code",
   "execution_count": 17,
   "id": "569e37fb",
   "metadata": {},
   "outputs": [],
   "source": [
    "conv_chain = LLMChain(llm=conv_model,\n",
    "                      prompt=prompt,\n",
    "                      verbose=True)"
   ]
  },
  {
   "cell_type": "code",
   "execution_count": 18,
   "id": "2c0f4ea4",
   "metadata": {},
   "outputs": [
    {
     "name": "stdout",
     "output_type": "stream",
     "text": [
      "\n",
      "\n",
      "\u001b[1m> Entering new LLMChain chain...\u001b[0m\n",
      "Prompt after formatting:\n",
      "\u001b[32;1m\u001b[1;3mYou are a helpful AI assistant providing support to someone dealing with phobias. Your goal is to offer friendly and informative advice on overcoming fears. \n",
      "\n",
      "I afraid of dogs. How I can encounter it\n",
      "\u001b[0m\n",
      "\n",
      "\u001b[1m> Finished chain.\u001b[0m\n",
      "\n",
      "If you are afraid of dogs, it's essential to remember that facing your fear is the first step to overcoming it. Here are some suggestions on how to encounter dogs and work through your fear:\n",
      "\n",
      "1. Start slow: Begin by observing dogs from a distance, such as watching them play in a park or seeing them on TV or in movies. Gradually increase the proximity, and soon you might be able to tolerate being in the same room with a dog.\n",
      "\n",
      "2. Learn about dogs: Read books, watch documentaries or attend seminars to learn more about dogs, their behavior, and how to approach them safely. Understanding them better can help you feel more confident and less anxious.\n",
      "\n",
      "3. Practice with a trusted friend: Ask a friend who owns a dog if you can spend some time with their pet under their supervision. Make sure your friend is aware of your fear and is supportive throughout the process.\n",
      "\n",
      "4.\n"
     ]
    }
   ],
   "source": [
    "print(conv_chain.run(\"I afraid of dogs. How I can encounter it\"))"
   ]
  },
  {
   "cell_type": "code",
   "execution_count": 19,
   "id": "c22bccac",
   "metadata": {},
   "outputs": [
    {
     "name": "stdout",
     "output_type": "stream",
     "text": [
      "Collecting Flask\n",
      "  Downloading flask-3.0.0-py3-none-any.whl.metadata (3.6 kB)\n",
      "Collecting Werkzeug>=3.0.0 (from Flask)\n",
      "  Downloading werkzeug-3.0.1-py3-none-any.whl.metadata (4.1 kB)\n",
      "Requirement already satisfied: Jinja2>=3.1.2 in d:\\anaconda\\envs\\chatbot\\lib\\site-packages (from Flask) (3.1.2)\n",
      "Collecting itsdangerous>=2.1.2 (from Flask)\n",
      "  Downloading itsdangerous-2.1.2-py3-none-any.whl (15 kB)\n",
      "Requirement already satisfied: click>=8.1.3 in d:\\anaconda\\envs\\chatbot\\lib\\site-packages (from Flask) (8.1.7)\n",
      "Collecting blinker>=1.6.2 (from Flask)\n",
      "  Downloading blinker-1.7.0-py3-none-any.whl.metadata (1.9 kB)\n",
      "Requirement already satisfied: colorama in d:\\anaconda\\envs\\chatbot\\lib\\site-packages (from click>=8.1.3->Flask) (0.4.6)\n",
      "Requirement already satisfied: MarkupSafe>=2.0 in d:\\anaconda\\envs\\chatbot\\lib\\site-packages (from Jinja2>=3.1.2->Flask) (2.1.1)\n",
      "Downloading flask-3.0.0-py3-none-any.whl (99 kB)\n",
      "   ---------------------------------------- 0.0/99.7 kB ? eta -:--:--\n",
      "   ---- ----------------------------------- 10.2/99.7 kB ? eta -:--:--\n",
      "   ---- ----------------------------------- 10.2/99.7 kB ? eta -:--:--\n",
      "   ------------------------ --------------- 61.4/99.7 kB 550.5 kB/s eta 0:00:01\n",
      "   ---------------------------------------- 99.7/99.7 kB 639.2 kB/s eta 0:00:00\n",
      "Downloading blinker-1.7.0-py3-none-any.whl (13 kB)\n",
      "Downloading werkzeug-3.0.1-py3-none-any.whl (226 kB)\n",
      "   ---------------------------------------- 0.0/226.7 kB ? eta -:--:--\n",
      "   ---------------------------- ----------- 163.8/226.7 kB 5.0 MB/s eta 0:00:01\n",
      "   ---------------------------------------- 226.7/226.7 kB 3.5 MB/s eta 0:00:00\n",
      "Installing collected packages: Werkzeug, itsdangerous, blinker, Flask\n",
      "Successfully installed Flask-3.0.0 Werkzeug-3.0.1 blinker-1.7.0 itsdangerous-2.1.2\n"
     ]
    }
   ],
   "source": [
    "!pip install Flask\n"
   ]
  },
  {
   "cell_type": "code",
   "execution_count": null,
   "id": "9b0a07f8",
   "metadata": {},
   "outputs": [],
   "source": []
  }
 ],
 "metadata": {
  "kernelspec": {
   "display_name": "Python 3 (ipykernel)",
   "language": "python",
   "name": "python3"
  },
  "language_info": {
   "codemirror_mode": {
    "name": "ipython",
    "version": 3
   },
   "file_extension": ".py",
   "mimetype": "text/x-python",
   "name": "python",
   "nbconvert_exporter": "python",
   "pygments_lexer": "ipython3",
   "version": "3.11.5"
  }
 },
 "nbformat": 4,
 "nbformat_minor": 5
}
