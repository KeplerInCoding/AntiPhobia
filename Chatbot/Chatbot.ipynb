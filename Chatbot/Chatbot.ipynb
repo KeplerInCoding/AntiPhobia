{
 "cells": [
  {
   "cell_type": "code",
   "execution_count": 1,
   "id": "569b9373",
   "metadata": {},
   "outputs": [
    {
     "ename": "ModuleNotFoundError",
     "evalue": "No module named 'chainlit'",
     "output_type": "error",
     "traceback": [
      "\u001b[0;31m---------------------------------------------------------------------------\u001b[0m",
      "\u001b[0;31mModuleNotFoundError\u001b[0m                       Traceback (most recent call last)",
      "\u001b[1;32m/home/musaiyab/WebD/AntiPhobia/Chatbot/Chatbot.ipynb Cell 1\u001b[0m line \u001b[0;36m2\n\u001b[1;32m      <a href='vscode-notebook-cell:/home/musaiyab/WebD/AntiPhobia/Chatbot/Chatbot.ipynb#W0sZmlsZQ%3D%3D?line=0'>1</a>\u001b[0m \u001b[39mimport\u001b[39;00m \u001b[39mos\u001b[39;00m\n\u001b[0;32m----> <a href='vscode-notebook-cell:/home/musaiyab/WebD/AntiPhobia/Chatbot/Chatbot.ipynb#W0sZmlsZQ%3D%3D?line=1'>2</a>\u001b[0m \u001b[39mimport\u001b[39;00m \u001b[39mchainlit\u001b[39;00m \u001b[39mas\u001b[39;00m \u001b[39mcl\u001b[39;00m\n\u001b[1;32m      <a href='vscode-notebook-cell:/home/musaiyab/WebD/AntiPhobia/Chatbot/Chatbot.ipynb#W0sZmlsZQ%3D%3D?line=2'>3</a>\u001b[0m \u001b[39mfrom\u001b[39;00m \u001b[39mlangchain\u001b[39;00m \u001b[39mimport\u001b[39;00m HuggingFaceHub, PromptTemplate, LLMChain\n\u001b[1;32m      <a href='vscode-notebook-cell:/home/musaiyab/WebD/AntiPhobia/Chatbot/Chatbot.ipynb#W0sZmlsZQ%3D%3D?line=3'>4</a>\u001b[0m \u001b[39mfrom\u001b[39;00m \u001b[39mgetpass\u001b[39;00m \u001b[39mimport\u001b[39;00m getpass\n",
      "\u001b[0;31mModuleNotFoundError\u001b[0m: No module named 'chainlit'"
     ]
    }
   ],
   "source": [
    "import os\n",
    "import chainlit as cl\n",
    "from langchain import HuggingFaceHub, PromptTemplate, LLMChain\n",
    "from getpass import getpass\n",
    "\n",
    "HUGGINGFACEHUB_API_TOKEN = getpass()\n",
    "os.environ['HUGGINGFACEHUB_API_TOKEN'] = HUGGINGFACEHUB_API_TOKEN\n",
    "\n",
    "model_id = \"openchat/openchat_3.5\"\n",
    "conv_model = HuggingFaceHub(huggingfacehub_api_token=os.environ['HUGGINGFACEHUB_API_TOKEN'],\n",
    "                            repo_id=model_id,\n",
    "                            model_kwargs={\"temperature\": 0.8, \"max_new_tokens\": 150})\n",
    "\n",
    "template = \"\"\"You are a helpful AI assistant providing support to someone dealing with phobias. Your goal is to offer friendly and informative advice on overcoming fears. \n",
    "\n",
    "{query}\n",
    "\"\"\"\n",
    "\n",
    "@cl.on_chat_start\n",
    "def main():\n",
    "    prompt = PromptTemplate(template=template, input_variables=['query'])\n",
    "    conv_chain = LLMChain(llm=conv_model, prompt=prompt, verbose=True)\n",
    "    cl.user_session.set(\"llm_chain\", conv_chain)\n",
    "\n",
    "@cl.on_message\n",
    "async def process_message(message: str):\n",
    "    llm_chain = cl.user_session.get(\"llm_chain\")\n",
    "    res = await llm_chain.acall(message, callbacks=[cl.AsyncLangchainCallbackHandler()])\n",
    "\n",
    "    # Perform post-processing on the received response here\n",
    "    # 'res' is a dictionary, and the response text is stored under the key \"text\"\n",
    "    return res[\"text\"]\n",
    "\n",
    "# If you are using Flask\n",
    "from flask import Flask\n",
    "\n",
    "app = Flask(__name__)\n",
    "\n",
    "@app.route('/')\n",
    "def home():\n",
    "    return \"Server is running.\"\n",
    "\n",
    "if __name__ == \"__main__\":\n",
    "    app.run(host=\"0.0.0.0\", port=8080)\n"
   ]
  },
  {
   "cell_type": "code",
   "execution_count": null,
   "id": "e0678352",
   "metadata": {},
   "outputs": [],
   "source": [
    "%run Chatbot.ipynb"
   ]
  },
  {
   "cell_type": "code",
   "execution_count": null,
   "id": "1d66d7c9",
   "metadata": {},
   "outputs": [],
   "source": []
  }
 ],
 "metadata": {
  "kernelspec": {
   "display_name": "Python 3 (ipykernel)",
   "language": "python",
   "name": "python3"
  },
  "language_info": {
   "codemirror_mode": {
    "name": "ipython",
    "version": 3
   },
   "file_extension": ".py",
   "mimetype": "text/x-python",
   "name": "python",
   "nbconvert_exporter": "python",
   "pygments_lexer": "ipython3",
   "version": "3.10.12"
  }
 },
 "nbformat": 4,
 "nbformat_minor": 5
}
